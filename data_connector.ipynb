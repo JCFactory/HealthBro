{
 "cells": [
  {
   "cell_type": "code",
   "execution_count": 26,
   "metadata": {},
   "outputs": [
    {
     "name": "stderr",
     "output_type": "stream",
     "text": [
      "/Users/jf/anaconda3/lib/python3.7/site-packages/urllib3/connectionpool.py:847: InsecureRequestWarning: Unverified HTTPS request is being made. Adding certificate verification is strongly advised. See: https://urllib3.readthedocs.io/en/latest/advanced-usage.html#ssl-warnings\n",
      "  InsecureRequestWarning)\n"
     ]
    },
    {
     "name": "stdout",
     "output_type": "stream",
     "text": [
      "{\"@context\":\"http://id.who.int/icd/contexts/contextForICD10Entity.json\",\"@id\":\"http://id.who.int/icd/release/10/2016/F00-F09\",\"parent\":[\"http://id.who.int/icd/release/10/2016/V\"],\"child\":[\"http://id.who.int/icd/release/10/2016/F00\",\"http://id.who.int/icd/release/10/2016/F01\",\"http://id.who.int/icd/release/10/2016/F02\",\"http://id.who.int/icd/release/10/2016/F03\",\"http://id.who.int/icd/release/10/2016/F04\",\"http://id.who.int/icd/release/10/2016/F05\",\"http://id.who.int/icd/release/10/2016/F06\",\"http://id.who.int/icd/release/10/2016/F07\",\"http://id.who.int/icd/release/10/2016/F09\"],\"browserUrl\":\"http://apps.who.int/classifications/icd10/browse/2016/en#/F00-F09\",\"code\":\"F00-F09\",\"title\":{\"@language\":\"en\",\"@value\":\"Organic, including symptomatic, mental disorders\"},\"codingHint\":[{\"label\":{\"@language\":\"en\",\"@value\":\"Use additional code, if desired, to identify the underlying disease.\"}}],\"classKind\":\"block\"}\n"
     ]
    },
    {
     "name": "stderr",
     "output_type": "stream",
     "text": [
      "/Users/jf/anaconda3/lib/python3.7/site-packages/urllib3/connectionpool.py:847: InsecureRequestWarning: Unverified HTTPS request is being made. Adding certificate verification is strongly advised. See: https://urllib3.readthedocs.io/en/latest/advanced-usage.html#ssl-warnings\n",
      "  InsecureRequestWarning)\n"
     ]
    }
   ],
   "source": [
    "# call icd-10 api\n",
    "import requests\n",
    "\n",
    "token_endpoint = 'https://icdaccessmanagement.who.int/connect/token'\n",
    "client_id = 'a48bcbc0-8b29-466b-93aa-403519a3316b_26db3505-0dab-4415-9139-c4e11e06819d'\n",
    "client_secret = '0NpJOwkKcD9FHeUUfBCNpUvM8i0yVZTwZ0DkrQcPcog='\n",
    "scope = 'icdapi_access'\n",
    "grant_type = 'client_credentials'\n",
    "\n",
    "\n",
    "# get the OAUTH2 token\n",
    "\n",
    "# set data to post\n",
    "payload = {'client_id': client_id, \n",
    "\t   \t   'client_secret': client_secret, \n",
    "           'scope': scope, \n",
    "           'grant_type': grant_type}\n",
    "           \n",
    "# make request\n",
    "r = requests.post(token_endpoint, data=payload, verify=False).json()\n",
    "token = r['access_token']\n",
    "\n",
    "\n",
    "# access ICD API\n",
    "\n",
    "#uri = 'https://id.who.int/icd/release/10'\n",
    "uri_chapter_5 = 'http://id.who.int/icd/release/10/2016/V'\n",
    "uri_chapter_5_f00_f09 = 'http://id.who.int/icd/release/10/2016/F00-F09'\n",
    "uri_chapter_5_f07 = 'http://id.who.int/icd/release/10/2016/F00-F09'\n",
    "#uri = 'http://www.w3.org/2004/02/skos/core#broaderTransitive'\n",
    "\n",
    "# HTTP header fields to set\n",
    "headers = {'Authorization':  'Bearer '+token, \n",
    "           'Accept': 'application/json', \n",
    "           'Accept-Language': 'en',\n",
    "\t   'API-Version': 'v2'}\n",
    "           \n",
    "# make request           \n",
    "r = requests.get(uri_chapter_5_f09, headers=headers, verify=False)\n",
    "\n",
    "# print the result\n",
    "print (r.text)\t\t\t"
   ]
  },
  {
   "cell_type": "code",
   "execution_count": 30,
   "metadata": {},
   "outputs": [
    {
     "name": "stderr",
     "output_type": "stream",
     "text": [
      "/Users/jf/anaconda3/lib/python3.7/site-packages/urllib3/connectionpool.py:847: InsecureRequestWarning: Unverified HTTPS request is being made. Adding certificate verification is strongly advised. See: https://urllib3.readthedocs.io/en/latest/advanced-usage.html#ssl-warnings\n",
      "  InsecureRequestWarning)\n"
     ]
    },
    {
     "name": "stdout",
     "output_type": "stream",
     "text": [
      "{\"@context\":\"http://id.who.int/icd/contexts/contextForICD10Entity.json\",\"@id\":\"http://id.who.int/icd/release/10/2016/F00.0\",\"parent\":[\"http://id.who.int/icd/release/10/2016/F00\"],\"browserUrl\":\"http://apps.who.int/classifications/icd10/browse/2016/en#/F00.0\",\"code\":\"F00.0\",\"title\":{\"@language\":\"en\",\"@value\":\"Dementia in Alzheimer disease with early onset\"},\"definition\":{\"@language\":\"en\",\"@value\":\"Dementia in Alzheimer disease with onset before the age of 65, with a relatively rapid deteriorating course and with marked multiple disorders of the higher cortical functions.\"},\"inclusion\":[{\"label\":{\"@language\":\"en\",\"@value\":\"Alzheimer disease, type 2\"}},{\"label\":{\"@language\":\"en\",\"@value\":\"Presenile dementia, Alzheimer type\"}},{\"label\":{\"@language\":\"en\",\"@value\":\"Primary degenerative dementia of the Alzheimer type, presenile onset\"}}],\"usage\":\"aster\",\"classKind\":\"category\"}\n",
      "{\"@context\":\"http://id.who.int/icd/contexts/contextForICD10Entity.json\",\"@id\":\"http://id.who.int/icd/release/10/2016/F00.1\",\"parent\":[\"http://id.who.int/icd/release/10/2016/F00\"],\"browserUrl\":\"http://apps.who.int/classifications/icd10/browse/2016/en#/F00.1\",\"code\":\"F00.1\",\"title\":{\"@language\":\"en\",\"@value\":\"Dementia in Alzheimer disease with late onset\"},\"definition\":{\"@language\":\"en\",\"@value\":\"Dementia in Alzheimer disease with onset after the age of 65, usually in the late 70s or thereafter, with a slow progression, and with memory impairment as the principal feature.\"},\"inclusion\":[{\"label\":{\"@language\":\"en\",\"@value\":\"Alzheimer disease, type 1\"}},{\"label\":{\"@language\":\"en\",\"@value\":\"Primary degenerative dementia of the Alzheimer type, senile onset\"}},{\"label\":{\"@language\":\"en\",\"@value\":\"Senile dementia, Alzheimer type\"}}],\"usage\":\"aster\",\"classKind\":\"category\"}\n"
     ]
    },
    {
     "name": "stderr",
     "output_type": "stream",
     "text": [
      "/Users/jf/anaconda3/lib/python3.7/site-packages/urllib3/connectionpool.py:847: InsecureRequestWarning: Unverified HTTPS request is being made. Adding certificate verification is strongly advised. See: https://urllib3.readthedocs.io/en/latest/advanced-usage.html#ssl-warnings\n",
      "  InsecureRequestWarning)\n"
     ]
    }
   ],
   "source": [
    "# get single codes for diseases:\n",
    "\n",
    "uri_f07 = 'http://id.who.int/icd/release/10/2016/F00.0'\n",
    "r = requests.get(uri_f07, headers=headers, verify=False)\n",
    "print(r.text)\n",
    "\n",
    "uri_f08 = 'http://id.who.int/icd/release/10/2016/F00.1'\n",
    "r = requests.get(uri_f08, headers=headers, verify=False)\n",
    "print(r.text)\n",
    "\n",
    "uri_f08 = 'http://id.who.int/icd/release/10/2016/F00.1'\n",
    "r = requests.get(uri_f08, headers=headers, verify=False)\n",
    "print(r.text)"
   ]
  },
  {
   "cell_type": "code",
   "execution_count": 50,
   "metadata": {},
   "outputs": [
    {
     "ename": "NameError",
     "evalue": "name 'disease' is not defined",
     "output_type": "error",
     "traceback": [
      "\u001b[0;31m---------------------------------------------------------------------------\u001b[0m",
      "\u001b[0;31mNameError\u001b[0m                                 Traceback (most recent call last)",
      "\u001b[0;32m<ipython-input-50-f1608542a522>\u001b[0m in \u001b[0;36m<module>\u001b[0;34m\u001b[0m\n\u001b[1;32m      7\u001b[0m \u001b[0;34m\u001b[0m\u001b[0m\n\u001b[1;32m      8\u001b[0m \u001b[0;31m#df = pd.Dataframe()\u001b[0m\u001b[0;34m\u001b[0m\u001b[0;34m\u001b[0m\u001b[0;34m\u001b[0m\u001b[0m\n\u001b[0;32m----> 9\u001b[0;31m \u001b[0;32mfor\u001b[0m \u001b[0mi\u001b[0m \u001b[0;32min\u001b[0m \u001b[0mdisease\u001b[0m\u001b[0;34m:\u001b[0m\u001b[0;34m\u001b[0m\u001b[0;34m\u001b[0m\u001b[0m\n\u001b[0m\u001b[1;32m     10\u001b[0m     \u001b[0muri\u001b[0m \u001b[0;34m=\u001b[0m \u001b[0;34m'http://id.who.int/icd/release/10/F00.{i}'\u001b[0m\u001b[0;34m\u001b[0m\u001b[0;34m\u001b[0m\u001b[0m\n\u001b[1;32m     11\u001b[0m     \u001b[0mi\u001b[0m \u001b[0;34m+=\u001b[0m \u001b[0;36m1\u001b[0m\u001b[0;34m\u001b[0m\u001b[0;34m\u001b[0m\u001b[0m\n",
      "\u001b[0;31mNameError\u001b[0m: name 'disease' is not defined"
     ]
    }
   ],
   "source": [
    "# get all values for chapter 5 and save them into a dataframe\n",
    "\n",
    "\n",
    "import pandas as pd\n",
    "import numpy as np\n",
    "import json\n",
    "\n",
    "#df = pd.Dataframe()\n",
    "for i in disease:\n",
    "    uri = 'http://id.who.int/icd/release/10/F00.{i}'\n",
    "    i += 1\n",
    "    r = requests.get(uri, headers=headers, verify=False)\n",
    "    r = r.json()\n",
    "    print('i' + i, r['title']['@value'])\n",
    "\n",
    "#uri_chapter_05 = 'http://id.who.int/icd/release/10/F00.0'\n",
    "# parse x:\n",
    "#y = json.loads(r)\n",
    "#print(y)\n",
    "#print(r)\n",
    "#print(r.child)"
   ]
  },
  {
   "cell_type": "code",
   "execution_count": null,
   "metadata": {},
   "outputs": [],
   "source": []
  },
  {
   "cell_type": "code",
   "execution_count": null,
   "metadata": {},
   "outputs": [],
   "source": []
  },
  {
   "cell_type": "code",
   "execution_count": null,
   "metadata": {},
   "outputs": [],
   "source": []
  },
  {
   "cell_type": "code",
   "execution_count": null,
   "metadata": {},
   "outputs": [],
   "source": [
    "## get all diseases of chapter 5 for mental disease and convert them to csv\n",
    "\n",
    "## create 10 learning entities for each intent (diagnosis)\n"
   ]
  }
 ],
 "metadata": {
  "kernelspec": {
   "display_name": "Python 3",
   "language": "python",
   "name": "python3"
  },
  "language_info": {
   "codemirror_mode": {
    "name": "ipython",
    "version": 3
   },
   "file_extension": ".py",
   "mimetype": "text/x-python",
   "name": "python",
   "nbconvert_exporter": "python",
   "pygments_lexer": "ipython3",
   "version": "3.7.3"
  }
 },
 "nbformat": 4,
 "nbformat_minor": 2
}
